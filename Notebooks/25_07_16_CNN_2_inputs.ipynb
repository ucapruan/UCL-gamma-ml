{
 "cells": [
  {
   "cell_type": "markdown",
   "metadata": {},
   "source": [
    "This notebook tried to add additional spectrum imformation as a feature into original CNN model, but the training was failed and the meaning needed futher consideration."
   ]
  },
  {
   "cell_type": "code",
   "execution_count": 1,
   "metadata": {},
   "outputs": [],
   "source": [
    "import os\n",
    "import uproot\n",
    "import numpy as np\n",
    "import matplotlib.pyplot as plt\n",
    "import torch\n",
    "import torch.nn as nn\n",
    "import torch.nn.functional as F\n",
    "import torch.optim as optim\n",
    "from torch.utils.data import DataLoader, TensorDataset, random_split\n",
    "from torchinfo import summary"
   ]
  },
  {
   "cell_type": "code",
   "execution_count": 2,
   "metadata": {},
   "outputs": [
    {
     "name": "stdout",
     "output_type": "stream",
     "text": [
      "['C', 'O', 'Si']\n",
      "\n",
      "X shape: torch.Size([1010, 1, 1440])\n",
      "X[0][:20] values:\n",
      " tensor([0.0065, 0.0061, 0.0061, 0.0061, 0.0063, 0.0059, 0.0060, 0.0057, 0.0055,\n",
      "        0.0054, 0.0055, 0.0053, 0.0054, 0.0047, 0.0047, 0.0050, 0.0049, 0.0048,\n",
      "        0.0047, 0.0047])\n",
      "\n",
      "Y shape: torch.Size([1010, 3])\n",
      "Y[0] values:\n",
      " tensor([0.0000, 0.5326, 0.4674])\n",
      "\n",
      "total_counts shape: torch.Size([1010, 1, 1])\n",
      "total_counts values: 276642.0\n",
      "\n",
      "Element：\n",
      "C: 0.0000\n",
      "O: 0.5326\n",
      "Si: 0.4674\n"
     ]
    }
   ],
   "source": [
    "root_dir = \"/unix/erw/data/11-07-25/batch_output\"\n",
    "root_files = [os.path.join(root_dir, f) for f in os.listdir(root_dir) if f.endswith(\".root\")]\n",
    "\n",
    "all_elements = set()\n",
    "for path in root_files:\n",
    "    with uproot.open(path) as file:\n",
    "        # set(elements)\n",
    "        df = file[\"Materials\"].arrays(library=\"pd\")\n",
    "        all_elements.update(df[\"Element\"].unique())\n",
    "        \n",
    "element_list = sorted(list(all_elements))\n",
    "print(element_list)\n",
    "element_to_index = {el: i for i, el in enumerate(element_list)}\n",
    "\n",
    "\n",
    "X = [] \n",
    "Y = [] \n",
    "total_counts = []\n",
    "\n",
    "for path in root_files:\n",
    "    with uproot.open(path) as file:\n",
    "\n",
    "        spectrum = file[\"Edep (noise)\"].values()\n",
    "        #spectrum = file[\"Edep\"].values()\n",
    "\n",
    "        total = np.sum(spectrum)\n",
    "        total_counts.append([total])\n",
    "\n",
    "        spectrum = spectrum / total # Normalize\n",
    "        spectrum = spectrum.astype(np.float32)\n",
    "        X.append(spectrum)\n",
    "\n",
    "        df = file[\"Materials\"].arrays(library=\"pd\")\n",
    "        df = df.drop_duplicates()           # Don't forget!!!\n",
    "        target = np.zeros(len(element_list), dtype=np.float32)\n",
    "        for _, row in df.iterrows():\n",
    "            idx = element_to_index[row[\"Element\"]]\n",
    "            target[idx] += row[\"Fraction\"]\n",
    "        Y.append(target)\n",
    "\n",
    "\n",
    "X = torch.tensor(np.stack(X)).unsqueeze(1)          # shape: [N, 1, 1440]\n",
    "Y = torch.tensor(np.stack(Y))                       # shape: [N, num_elements]\n",
    "total_counts = torch.tensor(total_counts, dtype=torch.float32).unsqueeze(1) # shape: [N, 1]\n",
    "\n",
    "# Check data\n",
    "i = 0  \n",
    "\n",
    "print(\"\\nX shape:\", X.shape) \n",
    "print(f\"X[{i}][:20] values:\\n\", X[i][0][:20]) \n",
    "\n",
    "print(\"\\nY shape:\", Y.shape) \n",
    "print(f\"Y[{i}] values:\\n\", Y[i])\n",
    "\n",
    "print(\"\\ntotal_counts shape:\", total_counts.shape) \n",
    "print(\"total_counts values:\", total)\n",
    "\n",
    "print(\"\\nElement：\")\n",
    "for idx, frac in enumerate(Y[i]):\n",
    "    print(f\"{element_list[idx]}: {frac.item():.4f}\")"
   ]
  },
  {
   "cell_type": "code",
   "execution_count": 25,
   "metadata": {},
   "outputs": [],
   "source": [
    "class CNN_2inputs(nn.Module):\n",
    "    def __init__(self, num_outputs):\n",
    "        super().__init__()\n",
    "\n",
    "        self.conv_layers = nn.Sequential(\n",
    "            nn.Conv1d(1, 32, kernel_size=5, padding=2),   # [B, 32, 1440]\n",
    "            nn.BatchNorm1d(32),\n",
    "            nn.ReLU(),\n",
    "            nn.MaxPool1d(kernel_size=2),                  # [B, 32, 720]\n",
    "\n",
    "            nn.Conv1d(32, 64, kernel_size=3, padding=1),  # [B, 64, 720]\n",
    "            nn.BatchNorm1d(64),\n",
    "            nn.ReLU(),\n",
    "            nn.MaxPool1d(kernel_size=2),                  # [B, 64, 360]\n",
    "\n",
    "            nn.Conv1d(64, 128, kernel_size=3, padding=1), # [B, 128, 360]\n",
    "            nn.BatchNorm1d(128),\n",
    "            nn.ReLU(),\n",
    "            nn.MaxPool1d(kernel_size=2),                  # [B, 128, 180]\n",
    "        )\n",
    "\n",
    "        self.flatten_dim = 128 * 180 + 1  # Add one feature -- total_counts\n",
    "\n",
    "        self.fc_layers = nn.Sequential(\n",
    "            nn.Linear(self.flatten_dim, 256),\n",
    "            nn.ReLU(),\n",
    "            nn.Dropout(0.3),\n",
    "\n",
    "            nn.Linear(256, 128),\n",
    "            nn.ReLU(),\n",
    "            nn.Dropout(0.3),\n",
    "\n",
    "            nn.Linear(128, num_outputs)\n",
    "        )\n",
    "\n",
    "    def forward(self, x, total_counts):\n",
    "        x = self.conv_layers(x)\n",
    "        x = x.view(x.size(0), -1)  # Flatten to [B, 128*180]\n",
    "\n",
    "        # Add input B -- total_counts\n",
    "        # Normalize to [0, 1] (? if not, it cannot work)\n",
    "        total_counts = torch.log10(total_counts + 1) / 7.0 \n",
    "        #total_counts = total_counts.view(-1, 1)  # Flatten to shape [B, 1]\n",
    "        x = torch.cat([x, total_counts], dim=1)\n",
    "\n",
    "        x = self.fc_layers(x)\n",
    "        return F.softmax(x, dim=1)\n"
   ]
  },
  {
   "cell_type": "code",
   "execution_count": 31,
   "metadata": {},
   "outputs": [],
   "source": [
    "# Hyperparameter (grid search in future)\n",
    "batch_size = 64\n",
    "epochs = 10\n",
    "learning_rate = 1e-4"
   ]
  },
  {
   "cell_type": "code",
   "execution_count": 32,
   "metadata": {},
   "outputs": [],
   "source": [
    "# Split dataset\n",
    "dataset = TensorDataset(X, total_counts, Y)\n",
    "train_size = int(0.8 * len(dataset))\n",
    "val_size = len(dataset) - train_size\n",
    "train_dataset, val_dataset = random_split(dataset, [train_size, val_size])\n",
    "\n",
    "train_loader = DataLoader(train_dataset, batch_size=batch_size, shuffle=True)\n",
    "val_loader = DataLoader(val_dataset, batch_size=batch_size)"
   ]
  },
  {
   "cell_type": "code",
   "execution_count": 33,
   "metadata": {},
   "outputs": [
    {
     "data": {
      "text/plain": [
       "==========================================================================================\n",
       "Layer (type:depth-idx)                   Output Shape              Param #\n",
       "==========================================================================================\n",
       "CNN_2inputs                              [64, 3]                   --\n",
       "├─Sequential: 1-1                        [64, 128, 180]            --\n",
       "│    └─Conv1d: 2-1                       [64, 32, 1440]            192\n",
       "│    └─BatchNorm1d: 2-2                  [64, 32, 1440]            64\n",
       "│    └─ReLU: 2-3                         [64, 32, 1440]            --\n",
       "│    └─MaxPool1d: 2-4                    [64, 32, 720]             --\n",
       "│    └─Conv1d: 2-5                       [64, 64, 720]             6,208\n",
       "│    └─BatchNorm1d: 2-6                  [64, 64, 720]             128\n",
       "│    └─ReLU: 2-7                         [64, 64, 720]             --\n",
       "│    └─MaxPool1d: 2-8                    [64, 64, 360]             --\n",
       "│    └─Conv1d: 2-9                       [64, 128, 360]            24,704\n",
       "│    └─BatchNorm1d: 2-10                 [64, 128, 360]            256\n",
       "│    └─ReLU: 2-11                        [64, 128, 360]            --\n",
       "│    └─MaxPool1d: 2-12                   [64, 128, 180]            --\n",
       "├─Sequential: 1-2                        [64, 3]                   --\n",
       "│    └─Linear: 2-13                      [64, 256]                 5,898,752\n",
       "│    └─ReLU: 2-14                        [64, 256]                 --\n",
       "│    └─Dropout: 2-15                     [64, 256]                 --\n",
       "│    └─Linear: 2-16                      [64, 128]                 32,896\n",
       "│    └─ReLU: 2-17                        [64, 128]                 --\n",
       "│    └─Dropout: 2-18                     [64, 128]                 --\n",
       "│    └─Linear: 2-19                      [64, 3]                   387\n",
       "==========================================================================================\n",
       "Total params: 5,963,587\n",
       "Trainable params: 5,963,587\n",
       "Non-trainable params: 0\n",
       "Total mult-adds (G): 1.25\n",
       "==========================================================================================\n",
       "Input size (MB): 0.37\n",
       "Forward/backward pass size (MB): 141.76\n",
       "Params size (MB): 23.85\n",
       "Estimated Total Size (MB): 165.98\n",
       "=========================================================================================="
      ]
     },
     "execution_count": 33,
     "metadata": {},
     "output_type": "execute_result"
    }
   ],
   "source": [
    "# Initialization\n",
    "model = CNN_2inputs(num_outputs=Y.shape[1])\n",
    "device = torch.device(\"cuda\" if torch.cuda.is_available() else \"cpu\")\n",
    "model = model.to(device)\n",
    "\n",
    "criterion = nn.MSELoss()    # (?)\n",
    "optimizer = optim.Adam(model.parameters(), lr=learning_rate)\n",
    "\n",
    "summary(model, input_size=((batch_size, 1, 1440),(batch_size,1)))"
   ]
  },
  {
   "cell_type": "code",
   "execution_count": 34,
   "metadata": {},
   "outputs": [
    {
     "name": "stdout",
     "output_type": "stream",
     "text": [
      "Epoch 1/10 | Train Loss: 0.2599 | Val Loss: 0.1558\n",
      "Epoch 2/10 | Train Loss: 0.2027 | Val Loss: 0.1558\n",
      "Epoch 3/10 | Train Loss: 0.1761 | Val Loss: 0.1558\n",
      "Epoch 4/10 | Train Loss: 0.1752 | Val Loss: 0.1558\n",
      "Epoch 5/10 | Train Loss: 0.1690 | Val Loss: 0.1558\n",
      "Epoch 6/10 | Train Loss: 0.1714 | Val Loss: 0.1558\n",
      "Epoch 7/10 | Train Loss: 0.1711 | Val Loss: 0.1558\n",
      "Epoch 8/10 | Train Loss: 0.1714 | Val Loss: 0.1558\n",
      "Epoch 9/10 | Train Loss: 0.1703 | Val Loss: 0.1558\n",
      "Epoch 10/10 | Train Loss: 0.1705 | Val Loss: 0.1558\n"
     ]
    },
    {
     "data": {
      "image/png": "[encoded data removed]",
      "text/plain": [
       "<Figure size 800x500 with 1 Axes>"
      ]
     },
     "metadata": {},
     "output_type": "display_data"
    }
   ],
   "source": [
    "# Train the model\n",
    "train_losses = []\n",
    "val_losses = []\n",
    "\n",
    "for epoch in range(epochs):\n",
    "    model.train()\n",
    "    total_loss = 0.0\n",
    "\n",
    "    for batch_X, batch_total, batch_Y in train_loader:\n",
    "        batch_X, batch_total, batch_Y = batch_X.to(device), batch_total.to(device), batch_Y.to(device)\n",
    "\n",
    "        optimizer.zero_grad()\n",
    "        preds = model(batch_X, batch_total) \n",
    "        loss = criterion(preds, batch_Y) \n",
    "        loss.backward()\n",
    "        optimizer.step()\n",
    "        total_loss += loss.item()\n",
    "\n",
    "    avg_train_loss = total_loss / len(train_loader)\n",
    "    train_losses.append(avg_train_loss)\n",
    "\n",
    "    # Validation\n",
    "    model.eval()\n",
    "    val_loss = 0.0\n",
    "    with torch.no_grad():\n",
    "        for val_X, val_total, val_Y in val_loader:\n",
    "            val_X, val_total, val_Y = val_X.to(device), val_total.to(device), val_Y.to(device)\n",
    "            preds = model(val_X, val_total)\n",
    "            loss = criterion(preds, val_Y)\n",
    "            val_loss += loss.item()\n",
    "\n",
    "    avg_val_loss = val_loss / len(val_loader)\n",
    "    val_losses.append(avg_val_loss)\n",
    "\n",
    "    print(f\"Epoch {epoch+1}/{epochs} | Train Loss: {avg_train_loss:.4f} | Val Loss: {avg_val_loss:.4f}\")\n",
    "\n",
    "# plot\n",
    "plt.figure(figsize=(8, 5))\n",
    "plt.plot(train_losses, label='Train Loss')\n",
    "plt.plot(val_losses, label='Validation Loss')\n",
    "plt.xlabel('Epoch')\n",
    "plt.ylabel('Loss')\n",
    "plt.title('Training & Validation Loss')\n",
    "plt.legend()\n",
    "plt.grid(True)\n",
    "plt.tight_layout()\n",
    "plt.show()"
   ]
  },
  {
   "cell_type": "code",
   "execution_count": 36,
   "metadata": {},
   "outputs": [
    {
     "data": {
      "image/png": "[encoded data removed]",
      "text/plain": [
       "<Figure size 800x500 with 1 Axes>"
      ]
     },
     "metadata": {},
     "output_type": "display_data"
    }
   ],
   "source": [
    "model.eval()\n",
    "\n",
    "with torch.no_grad():\n",
    "    for val_X, val_total, val_Y in val_loader:\n",
    "        val_X, val_total, val_Y = val_X.to(device), val_total.to(device), val_Y.to(device)\n",
    "\n",
    "        # take one sample\n",
    "        preds = model(val_X, val_total)            # [B, num_elements]\n",
    "        pred_probs = preds[63].cpu()\n",
    "        true_probs = val_Y[63].cpu()\n",
    "\n",
    "        # plot\n",
    "        x = torch.arange(len(true_probs))\n",
    "        element_names = element_list\n",
    "\n",
    "        plt.figure(figsize=(8, 5))\n",
    "        plt.bar(x - 0.2, true_probs, width=0.4, label='True')\n",
    "        plt.bar(x + 0.2, pred_probs, width=0.4, label='Predicted')\n",
    "        plt.xlabel(\"Element\")\n",
    "        plt.ylabel(\"Percentage\")\n",
    "        plt.title(\"(Example) Element composition: True vs Predicted\")\n",
    "        plt.xticks(x, element_names)\n",
    "        plt.legend()\n",
    "        plt.show()\n",
    "        break  # just show one sample"
   ]
  },
  {
   "cell_type": "code",
   "execution_count": null,
   "metadata": {},
   "outputs": [],
   "source": []
  }
 ],
 "metadata": {
  "kernelspec": {
   "display_name": "Python (gamma_ml)",
   "language": "python",
   "name": "gamma_ml"
  },
  "language_info": {
   "codemirror_mode": {
    "name": "ipython",
    "version": 3
   },
   "file_extension": ".py",
   "mimetype": "text/x-python",
   "name": "python",
   "nbconvert_exporter": "python",
   "pygments_lexer": "ipython3",
   "version": "3.10.18"
  }
 },
 "nbformat": 4,
 "nbformat_minor": 2
}
